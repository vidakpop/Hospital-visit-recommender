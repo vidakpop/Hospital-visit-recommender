{
  "nbformat": 4,
  "nbformat_minor": 0,
  "metadata": {
    "colab": {
      "provenance": [],
      "authorship_tag": "ABX9TyP/LVU8PAnHaaFUnWY+AYLh",
      "include_colab_link": true
    },
    "kernelspec": {
      "name": "python3",
      "display_name": "Python 3"
    },
    "language_info": {
      "name": "python"
    }
  },
  "cells": [
    {
      "cell_type": "markdown",
      "metadata": {
        "id": "view-in-github",
        "colab_type": "text"
      },
      "source": [
        "<a href=\"https://colab.research.google.com/github/vidakpop/Hospital-visit-recommender/blob/main/Health_visit_recommender.ipynb\" target=\"_parent\"><img src=\"https://colab.research.google.com/assets/colab-badge.svg\" alt=\"Open In Colab\"/></a>"
      ]
    },
    {
      "cell_type": "code",
      "source": [
        "import pandas as pd\n",
        "import numpy as np\n",
        "from sklearn.model_selection import train_test_split\n",
        "from sklearn.ensemble import RandomForestClassifier\n",
        "from sklearn.metrics import accuracy_score, classification_report\n",
        "from sklearn.impute import SimpleImputer\n",
        "from sklearn.compose import ColumnTransformer\n",
        "from sklearn.pipeline import Pipeline\n",
        "from sklearn.preprocessing import OneHotEncoder\n",
        "\n",
        "# Load the dataset from the provided URL\n",
        "url = 'https://raw.githubusercontent.com/vidakpop/Health_Care-Kenya/main/Healthcare%20Dataset.csv'\n",
        "data = pd.read_csv(url)\n",
        "\n"
      ],
      "metadata": {
        "id": "XVxnHj6b9krO"
      },
      "execution_count": 5,
      "outputs": []
    },
    {
      "cell_type": "code",
      "source": [
        "# Define the columns to drop (such as picture-related columns)\n",
        "columns_to_drop = ['Your Picture', 'Your Picture_URL', '_id', '_uuid', '_submission_time', '_status',\n",
        "                   '_submitted_by', '__version__', '_tags', '_index']\n",
        "\n",
        "data = data.drop(columns=columns_to_drop)\n",
        "\n",
        "# Define the target variable (predict whether there was a hospital visit)\n",
        "data['Hospital_Visit'] = data['When was the last time you visited a hospital for medical treatment? (In Months)'].notna()\n",
        "data = data.drop(columns=['When was the last time you visited a hospital for medical treatment? (In Months)'])\n",
        "\n",
        "# Convert 'Age' to numeric (you may need to customize this based on your data)\n",
        "data['Age'] = pd.to_numeric(data['Age'], errors='coerce')\n",
        "\n",
        "# Define categorical and numerical columns\n",
        "categorical_columns = ['Gender', 'Marital Status', 'Employment Status', 'Monthly Household Income',\n",
        "                       'Have you ever had health insurance?', 'If yes, which insurance cover?',\n",
        "                       'Did you have health insurance during your last hospital visit?',\n",
        "                       'Have you ever had a routine check-up with a doctor or healthcare provider?',\n",
        "                       'If you answered yes to the previous question, what time period (in years) do you stay before having your routine check-up?',\n",
        "                       'Have you ever had a cancer screening (e.g. mammogram, colonoscopy, etc.)?',\n",
        "                       'If you answered yes to the previous question, what time period (in years) do you stay before having your Cancer screening?']\n",
        "\n",
        "numerical_columns = ['_Location_latitude', '_Location_longitude', '_Location_altitude',\n",
        "                     '_Location_precision', 'Age']\n",
        "\n",
        "# Split data into features and target variable\n",
        "X = data.drop(columns=['Hospital_Visit'])\n",
        "y = data['Hospital_Visit']\n",
        "\n",
        "# Split data into training and testing sets\n",
        "X_train, X_test, y_train, y_test = train_test_split(X, y, test_size=0.2, random_state=42)\n",
        "\n"
      ],
      "metadata": {
        "id": "RmRjW8ex-Ht2"
      },
      "execution_count": 6,
      "outputs": []
    },
    {
      "cell_type": "code",
      "source": [
        "# Create preprocessing pipelines for categorical and numerical data\n",
        "categorical_pipeline = Pipeline([\n",
        "    ('imputer', SimpleImputer(strategy='most_frequent')),\n",
        "    ('encoder', OneHotEncoder(sparse=False, handle_unknown='ignore'))\n",
        "])\n",
        "\n",
        "numerical_pipeline = Pipeline([\n",
        "    ('imputer', SimpleImputer(strategy='median'))\n",
        "])\n",
        "\n",
        "preprocessor = ColumnTransformer(\n",
        "    transformers=[\n",
        "        ('cat', categorical_pipeline, categorical_columns),\n",
        "        ('num', numerical_pipeline, numerical_columns)\n",
        "    ])\n",
        "\n",
        "\n"
      ],
      "metadata": {
        "id": "tk_Ubz2x-BuL"
      },
      "execution_count": 7,
      "outputs": []
    },
    {
      "cell_type": "code",
      "source": [
        "# Create a Random Forest Classifier model\n",
        "model = RandomForestClassifier(random_state=42)\n",
        "\n",
        "# Create a full pipeline with data preprocessing and model\n",
        "full_pipeline = Pipeline([\n",
        "    ('preprocessor', preprocessor),\n",
        "    ('model', model)\n",
        "])\n",
        "\n",
        "# Fit the pipeline (including data preprocessing) to the training data\n",
        "full_pipeline.fit(X_train, y_train)\n",
        "\n",
        "# Make predictions on the test set\n",
        "y_pred = full_pipeline.predict(X_test)\n"
      ],
      "metadata": {
        "colab": {
          "base_uri": "https://localhost:8080/"
        },
        "id": "wlJDpbUr9-Bl",
        "outputId": "cc2e5156-bfc2-4b42-d97c-c24023ec4435"
      },
      "execution_count": 8,
      "outputs": [
        {
          "output_type": "stream",
          "name": "stderr",
          "text": [
            "/usr/local/lib/python3.10/dist-packages/sklearn/preprocessing/_encoders.py:868: FutureWarning: `sparse` was renamed to `sparse_output` in version 1.2 and will be removed in 1.4. `sparse_output` is ignored unless you leave `sparse` to its default value.\n",
            "  warnings.warn(\n"
          ]
        }
      ]
    },
    {
      "cell_type": "code",
      "source": [
        "# Evaluate the model\n",
        "accuracy = accuracy_score(y_test, y_pred)\n",
        "report = classification_report(y_test, y_pred)\n",
        "\n",
        "print(f'Accuracy: {accuracy}')\n",
        "print(f'Classification Report:\\n{report}')\n"
      ],
      "metadata": {
        "colab": {
          "base_uri": "https://localhost:8080/"
        },
        "id": "zSC_rP2995u2",
        "outputId": "3a8453a1-ba18-4e9a-da6c-5b3ada7b6d79"
      },
      "execution_count": 9,
      "outputs": [
        {
          "output_type": "stream",
          "name": "stdout",
          "text": [
            "Accuracy: 0.976461038961039\n",
            "Classification Report:\n",
            "              precision    recall  f1-score   support\n",
            "\n",
            "       False       0.64      0.27      0.38        33\n",
            "        True       0.98      1.00      0.99      1199\n",
            "\n",
            "    accuracy                           0.98      1232\n",
            "   macro avg       0.81      0.63      0.69      1232\n",
            "weighted avg       0.97      0.98      0.97      1232\n",
            "\n"
          ]
        }
      ]
    },
    {
      "cell_type": "code",
      "source": [
        "# Example: To predict a single instance\n",
        "new_data = pd.DataFrame({\n",
        "    'Gender': ['Male'],\n",
        "    'Marital Status': ['Married'],\n",
        "    'Employment Status': ['Employed'],\n",
        "    'Monthly Household Income': ['5000-10000 Ksh'],\n",
        "    'Have you ever had health insurance?': ['Yes'],\n",
        "    'If yes, which insurance cover?': ['NHIF'],\n",
        "    'Did you have health insurance during your last hospital visit?': ['Yes'],\n",
        "    'Have you ever had a routine check-up with a doctor or healthcare provider?': ['Yes'],\n",
        "    'If you answered yes to the previous question, what time period (in years) do you stay before having your routine check-up?': ['1'],\n",
        "    'Have you ever had a cancer screening (e.g. mammogram, colonoscopy, etc.)?': ['No'],\n",
        "    'If you answered yes to the previous question, what time period (in years) do you stay before having your Cancer screening?': [''],\n",
        "    '_Location_latitude': [1.23],\n",
        "    '_Location_longitude': [36.78],\n",
        "    '_Location_altitude': [1500.0],\n",
        "    '_Location_precision': [10.0],\n",
        "    'Age': [30]\n",
        "})\n",
        "\n",
        "# Preprocess the new data and make a prediction\n",
        "new_data_preprocessed = full_pipeline.named_steps['preprocessor'].transform(new_data)\n",
        "prediction = full_pipeline.named_steps['model'].predict(new_data_preprocessed)\n",
        "\n",
        "print(f'Predicted Hospital Visit: {prediction[0]}')\n"
      ],
      "metadata": {
        "colab": {
          "base_uri": "https://localhost:8080/"
        },
        "id": "nGgimZQE9qhz",
        "outputId": "fc3aebd3-73d6-478b-cc0b-bf2b0e4974f9"
      },
      "execution_count": 12,
      "outputs": [
        {
          "output_type": "stream",
          "name": "stdout",
          "text": [
            "Predicted Hospital Visit: True\n"
          ]
        }
      ]
    }
  ]
}